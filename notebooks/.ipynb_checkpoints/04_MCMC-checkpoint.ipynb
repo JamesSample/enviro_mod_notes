{
 "cells": [
  {
   "cell_type": "markdown",
   "metadata": {},
   "source": [
    "# Markov chain Monte Carlo (MCMC) methods\n",
    "\n",
    "\n",
    "\n",
    "## 1. The Metropolis algorithm\n",
    "\n",
    "In rejection, accept if $U(0, mQ(x)) < f(x)$ can re-write as\n",
    "\n",
    "$U(0, 1) < \\frac{f(x)}{mQ(x)}$\n",
    "\n",
    "This is used in Metropolis."
   ]
  },
  {
   "cell_type": "code",
   "execution_count": null,
   "metadata": {
    "collapsed": true
   },
   "outputs": [],
   "source": []
  }
 ],
 "metadata": {
  "kernelspec": {
   "display_name": "Python 2",
   "language": "python",
   "name": "python2"
  },
  "language_info": {
   "codemirror_mode": {
    "name": "ipython",
    "version": 2
   },
   "file_extension": ".py",
   "mimetype": "text/x-python",
   "name": "python",
   "nbconvert_exporter": "python",
   "pygments_lexer": "ipython2",
   "version": "2.7.9"
  }
 },
 "nbformat": 4,
 "nbformat_minor": 0
}
