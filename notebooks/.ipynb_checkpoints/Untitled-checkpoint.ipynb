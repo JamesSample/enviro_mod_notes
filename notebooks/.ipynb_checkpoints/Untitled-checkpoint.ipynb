{
 "cells": [
  {
   "cell_type": "markdown",
   "metadata": {},
   "source": [
    "<img src=\"https://github.com/JamesSample/enviro_mod_notes/blob/master/images/Output_And_Obs_Time_Series.png?raw=true\" alt=\"Simulated and observed data\" width=600>\n",
    "\n",
    "\n",
    "\n",
    "<img src=\"http://raw.githubusercontent.com/JamesSample/enviro_mod_notes/master/images/Output_And_Obs_Time_Series.png\" alt=\"Simulated and observed data\" width=600>"
   ]
  }
 ],
 "metadata": {
  "kernelspec": {
   "display_name": "Python 2",
   "language": "python",
   "name": "python2"
  },
  "language_info": {
   "codemirror_mode": {
    "name": "ipython",
    "version": 2
   },
   "file_extension": ".py",
   "mimetype": "text/x-python",
   "name": "python",
   "nbconvert_exporter": "python",
   "pygments_lexer": "ipython2",
   "version": "2.7.10"
  }
 },
 "nbformat": 4,
 "nbformat_minor": 0
}
