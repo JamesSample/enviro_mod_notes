{
 "cells": [
  {
   "cell_type": "code",
   "execution_count": null,
   "metadata": {
    "collapsed": false
   },
   "outputs": [],
   "source": [
    "\"\"\"\n",
    "This example demonstrates how you can use emcee with IPython parallel for\n",
    "distributed computation of your probability function. First, start up an\n",
    "ipcluster in one terminal and then execute this file.\n",
    "\"\"\"\n",
    "\n",
    "from __future__ import division, print_function\n",
    "\n",
    "import emcee\n",
    "import numpy as np\n",
    "from IPython.parallel import Client\n",
    "\n",
    "\n",
    "def lnprob(x):\n",
    "    return -0.5 * np.sum(x ** 2)\n",
    "\n",
    "# Set up the interface to the ipcluster.\n",
    "c = Client()\n",
    "view = c[:]\n",
    "view.push({\"lnprob\": lnprob})\n",
    "view.execute(\"import numpy as np\")\n",
    "\n",
    "# Set up the sampler.\n",
    "ndim = 10\n",
    "nwalkers = 100\n",
    "p0 = [np.random.rand(ndim) for i in xrange(nwalkers)]\n",
    "sampler = emcee.EnsembleSampler(nwalkers, ndim, lnprob, pool=view)\n",
    "\n",
    "# Run 100 steps as a burn-in.\n",
    "pos, prob, state = sampler.run_mcmc(p0, 100)\n",
    "\n",
    "# Reset the chain to remove the burn-in samples.\n",
    "sampler.reset()\n",
    "\n",
    "# Starting from the final position in the burn-in chain, sample for 1000\n",
    "# steps.\n",
    "sampler.run_mcmc(pos, 1000, rstate0=state)\n",
    "\n",
    "# Print out the mean acceptance fraction. In general, acceptance_fraction\n",
    "# has an entry for each walker so, in this case, it is a 100-dimensional\n",
    "# vector.\n",
    "print(\"Mean acceptance fraction: \", np.mean(sampler.acceptance_fraction))"
   ]
  }
 ],
 "metadata": {
  "kernelspec": {
   "display_name": "Python 2",
   "language": "python",
   "name": "python2"
  },
  "language_info": {
   "codemirror_mode": {
    "name": "ipython",
    "version": 2
   },
   "file_extension": ".py",
   "mimetype": "text/x-python",
   "name": "python",
   "nbconvert_exporter": "python",
   "pygments_lexer": "ipython2",
   "version": "2.7.10"
  }
 },
 "nbformat": 4,
 "nbformat_minor": 0
}
