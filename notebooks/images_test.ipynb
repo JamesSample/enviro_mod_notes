{
 "cells": [
  {
   "cell_type": "markdown",
   "metadata": {},
   "source": [
    "This works:\n",
    "\n",
    "    <img src=\"https://github.com/JamesSample/enviro_mod_notes/blob/master/images/Bayesian_Workflow.png?raw=true\" alt=\"Bayesian workflow\" width=\"600\">\n",
    "\n",
    "<img src=\"https://github.com/JamesSample/enviro_mod_notes/blob/master/images/Bayesian_Workflow.png?raw=true\" alt=\"Bayesian workflow\" width=\"600\"> \n",
    "\n",
    "This doesn't:\n",
    "\n",
    "    <img src=\"https://github.com/JamesSample/enviro_mod_notes/blob/master/images/Tarland_Map.png?raw=true\" alt=\"Tarland catchment map\" width=700>\n",
    "\n",
    "<img src=\"https://github.com/JamesSample/enviro_mod_notes/blob/master/images/Tarland_Map.png?raw=true\" alt=\"Tarland catchment map\" width=700>"
   ]
  }
 ],
 "metadata": {
  "kernelspec": {
   "display_name": "Python 2",
   "language": "python",
   "name": "python2"
  },
  "language_info": {
   "codemirror_mode": {
    "name": "ipython",
    "version": 2
   },
   "file_extension": ".py",
   "mimetype": "text/x-python",
   "name": "python",
   "nbconvert_exporter": "python",
   "pygments_lexer": "ipython2",
   "version": "2.7.10"
  }
 },
 "nbformat": 4,
 "nbformat_minor": 0
}
